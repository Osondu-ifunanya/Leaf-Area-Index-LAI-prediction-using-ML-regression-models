{
 "cells": [
  {
   "cell_type": "code",
   "execution_count": null,
   "id": "dd09bfeb-26e8-407d-a7ec-e5720c312aeb",
   "metadata": {},
   "outputs": [],
   "source": []
  }
 ],
 "metadata": {
  "kernelspec": {
   "display_name": "",
   "name": ""
  },
  "language_info": {
   "name": ""
  }
 },
 "nbformat": 4,
 "nbformat_minor": 5
}
